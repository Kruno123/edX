{
 "metadata": {
  "name": "modelingexpert.ipynb"
 },
 "nbformat": 3,
 "nbformat_minor": 0,
 "worksheets": [
  {
   "cells": [
    {
     "cell_type": "markdown",
     "metadata": {},
     "source": [
      "# Unit 3, Modeling the Expert\n",
      "## Video 4\n",
      "## Read in dataset"
     ]
    },
    {
     "cell_type": "code",
     "collapsed": false,
     "input": [
      "import os\n",
      "os.chdir('C:\\Users\\Violetta_Chen\\Downloads')\n",
      "import pandas as pd\n",
      "quality = pd.read_csv('quality.csv')"
     ],
     "language": "python",
     "metadata": {},
     "outputs": [],
     "prompt_number": 3
    },
    {
     "cell_type": "markdown",
     "metadata": {},
     "source": [
      "## Look at structure"
     ]
    },
    {
     "cell_type": "code",
     "collapsed": false,
     "input": [
      "def dfStr(df):\n",
      "    print \"The dataframe contains {0} rows and {1} columns\".format(df.shape[0], df.shape[1])\n",
      "    print \"The data types of columns are: \\n\"\n",
      "    print quality.dtypes\n",
      "\n",
      "dfStr(quality)"
     ],
     "language": "python",
     "metadata": {},
     "outputs": [
      {
       "output_type": "stream",
       "stream": "stdout",
       "text": [
        "The dataframe contains 131 rows and 14 columns\n",
        "The data types of columns are: \n",
        "\n",
        "MemberID                  int64\n",
        "InpatientDays             int64\n",
        "ERVisits                  int64\n",
        "OfficeVisits              int64\n",
        "Narcotics                 int64\n",
        "DaysSinceLastERVisit    float64\n",
        "Pain                      int64\n",
        "TotalVisits               int64\n",
        "ProviderCount             int64\n",
        "MedicalClaims             int64\n",
        "ClaimLines                int64\n",
        "StartedOnCombination       bool\n",
        "AcuteDrugGapSmall         int64\n",
        "PoorCare                  int64\n",
        "dtype: object\n"
       ]
      }
     ],
     "prompt_number": 2
    },
    {
     "cell_type": "markdown",
     "metadata": {},
     "source": [
      "## Table outcome"
     ]
    },
    {
     "cell_type": "code",
     "collapsed": false,
     "input": [
      "quality.groupby('PoorCare').size()"
     ],
     "language": "python",
     "metadata": {},
     "outputs": [
      {
       "metadata": {},
       "output_type": "pyout",
       "prompt_number": 4,
       "text": [
        "PoorCare\n",
        "0           98\n",
        "1           33\n",
        "dtype: int64"
       ]
      }
     ],
     "prompt_number": 4
    },
    {
     "cell_type": "markdown",
     "metadata": {},
     "source": [
      "## Baseline accuracy"
     ]
    },
    {
     "cell_type": "code",
     "collapsed": false,
     "input": [
      "98.0/131"
     ],
     "language": "python",
     "metadata": {},
     "outputs": [
      {
       "metadata": {},
       "output_type": "pyout",
       "prompt_number": 5,
       "text": [
        "0.7480916030534351"
       ]
      }
     ],
     "prompt_number": 5
    },
    {
     "cell_type": "markdown",
     "metadata": {},
     "source": [
      "## Create training and testing sets\n",
      "I will be using `train_test_split` from scikit-learn to split the dataset into training and testing sets     \n",
      "The data types returned by `train_test_split` in default is `object`, thus you need to convert them back when creating dataframes using `pandas`"
     ]
    },
    {
     "cell_type": "code",
     "collapsed": false,
     "input": [
      "from sklearn.cross_validation import train_test_split\n",
      "train, test = train_test_split(quality, train_size=0.75, random_state=88)\n",
      "qualityTrain = pd.DataFrame(train, columns=quality.columns).convert_objects(convert_numeric=True)\n",
      "qualityTest = pd.DataFrame(test, columns=quality.columns).convert_objects(convert_numeric=True)"
     ],
     "language": "python",
     "metadata": {},
     "outputs": [],
     "prompt_number": 5
    },
    {
     "cell_type": "markdown",
     "metadata": {},
     "source": [
      "## Logistic Regression Model Using `statsmodels`\n",
      "Need to create a dummy variable for intercept"
     ]
    },
    {
     "cell_type": "code",
     "collapsed": false,
     "input": [
      "qualityTrain['Intercept'] = 1\n",
      "import statsmodels.api as sm\n",
      "QualityLog = sm.Logit(qualityTrain['PoorCare'], qualityTrain[['OfficeVisits','Narcotics','Intercept']]).fit()\n",
      "print QualityLog.summary()"
     ],
     "language": "python",
     "metadata": {},
     "outputs": [
      {
       "output_type": "stream",
       "stream": "stdout",
       "text": [
        "Optimization terminated successfully.\n",
        "         Current function value: 0.444149\n",
        "         Iterations 6\n",
        "                           Logit Regression Results                           \n",
        "==============================================================================\n",
        "Dep. Variable:               PoorCare   No. Observations:                   98\n",
        "Model:                          Logit   Df Residuals:                       95\n",
        "Method:                           MLE   Df Model:                            2\n",
        "Date:                Tue, 17 Mar 2015   Pseudo R-squ.:                  0.2021\n",
        "Time:                        20:20:54   Log-Likelihood:                -43.527\n",
        "converged:                       True   LL-Null:                       -54.553\n",
        "                                        LLR p-value:                 1.627e-05\n",
        "================================================================================\n",
        "                   coef    std err          z      P>|z|      [95.0% Conf. Int.]\n",
        "--------------------------------------------------------------------------------\n",
        "OfficeVisits     0.0662      0.029      2.284      0.022         0.009     0.123\n",
        "Narcotics        0.0914      0.034      2.728      0.006         0.026     0.157\n",
        "Intercept       -2.5916      0.536     -4.831      0.000        -3.643    -1.540\n",
        "================================================================================\n"
       ]
      }
     ],
     "prompt_number": 6
    },
    {
     "cell_type": "markdown",
     "metadata": {},
     "source": [
      "## Make predictions on training set"
     ]
    },
    {
     "cell_type": "code",
     "collapsed": false,
     "input": [
      "predictTrain =  QualityLog.predict()\n",
      "print predictTrain"
     ],
     "language": "python",
     "metadata": {},
     "outputs": [
      {
       "output_type": "stream",
       "stream": "stdout",
       "text": [
        "[ 0.44804085  0.21694573  0.29511069  0.10638046  0.12063874  0.17171362\n",
        "  0.15044291  0.10638046  0.95186367  0.18749341  0.22398514  0.89762931\n",
        "  0.10025035  0.1421777   0.08250811  0.96558687  0.15909948  0.35013628\n",
        "  0.16815557  0.07876858  0.61136782  0.21963118  0.11283841  0.16815557\n",
        "  0.59936938  0.12231827  0.17533109  0.1421777   0.51004889  0.22126155\n",
        "  0.65030407  0.10025035  0.09883971  0.08061857  0.12678436  0.12783842\n",
        "  0.28153139  0.10638046  0.11538835  0.73326513  0.16815557  0.10638046\n",
        "  0.17670707  0.42244942  0.12960342  0.21269111  0.18133288  0.10025035\n",
        "  0.1196359   0.26220461  0.15044291  0.82127603  0.1196359   0.32337278\n",
        "  0.99057612  0.11798824  0.43400898  0.14026906  0.11127253  0.22181975\n",
        "  0.25616129  0.11283841  0.2084977   0.12960342  0.14026906  0.29708806\n",
        "  0.1196359   0.14646413  0.17171362  0.11283841  0.16815557  0.10880236\n",
        "  0.11798824  0.10638046  0.27020582  0.34227949  0.14646413  0.2525626\n",
        "  0.15909948  0.11283841  0.11283841  0.06968276  0.27084455  0.21269111\n",
        "  0.2573541   0.13540162  0.12063874  0.65382403  0.07876858  0.11538835\n",
        "  0.1421777   0.2345752   0.24315831  0.14528208  0.23569935  0.14528208\n",
        "  0.7091744   0.10025035]\n"
       ]
      }
     ],
     "prompt_number": 7
    },
    {
     "cell_type": "markdown",
     "metadata": {},
     "source": [
      "## Analyze predictions\n",
      "I am taking advantage of the `describe()` and `groupby()` functions of `DataFrame` objects to do the calculations."
     ]
    },
    {
     "cell_type": "code",
     "collapsed": false,
     "input": [
      "print pd.DataFrame(predictTrain).describe()"
     ],
     "language": "python",
     "metadata": {},
     "outputs": [
      {
       "output_type": "stream",
       "stream": "stdout",
       "text": [
        "               0\n",
        "count  98.000000\n",
        "mean    0.244898\n",
        "std     0.214547\n",
        "min     0.069683\n",
        "25%     0.117988\n",
        "50%     0.159099\n",
        "75%     0.257056\n",
        "max     0.990576\n"
       ]
      }
     ],
     "prompt_number": 8
    },
    {
     "cell_type": "code",
     "collapsed": false,
     "input": [
      "df = pd.DataFrame({'predictTrain':predictTrain, 'PoorCare':qualityTrain['PoorCare']})\n",
      "df.groupby('PoorCare')['predictTrain'].mean()"
     ],
     "language": "python",
     "metadata": {},
     "outputs": [
      {
       "metadata": {},
       "output_type": "pyout",
       "prompt_number": 9,
       "text": [
        "PoorCare\n",
        "0           0.183462\n",
        "1           0.434325\n",
        "Name: predictTrain, dtype: float64"
       ]
      }
     ],
     "prompt_number": 9
    },
    {
     "cell_type": "markdown",
     "metadata": {},
     "source": [
      "# Video 5\n",
      "## Confusion matrix for threshold of 0.5\n",
      "A little bit trickier to do the table"
     ]
    },
    {
     "cell_type": "code",
     "collapsed": false,
     "input": [
      "df['boolean'] = df['predictTrain'] >= 0.5\n",
      "print df.groupby(['PoorCare','boolean']).size()"
     ],
     "language": "python",
     "metadata": {},
     "outputs": [
      {
       "output_type": "stream",
       "stream": "stdout",
       "text": [
        "PoorCare  boolean\n",
        "0         False      71\n",
        "          True        3\n",
        "1         False      15\n",
        "          True        9\n",
        "dtype: int64\n"
       ]
      }
     ],
     "prompt_number": 10
    },
    {
     "cell_type": "markdown",
     "metadata": {},
     "source": [
      "## Sensitivity and specificity"
     ]
    },
    {
     "cell_type": "code",
     "collapsed": false,
     "input": [
      "9/24.0"
     ],
     "language": "python",
     "metadata": {},
     "outputs": [
      {
       "metadata": {},
       "output_type": "pyout",
       "prompt_number": 11,
       "text": [
        "0.375"
       ]
      }
     ],
     "prompt_number": 11
    },
    {
     "cell_type": "code",
     "collapsed": false,
     "input": [
      "71/74.0"
     ],
     "language": "python",
     "metadata": {},
     "outputs": [
      {
       "metadata": {},
       "output_type": "pyout",
       "prompt_number": 12,
       "text": [
        "0.9594594594594594"
       ]
      }
     ],
     "prompt_number": 12
    },
    {
     "cell_type": "markdown",
     "metadata": {},
     "source": [
      "## Confusion matrix for threshold of 0.7"
     ]
    },
    {
     "cell_type": "code",
     "collapsed": false,
     "input": [
      "df['boolean'] = df['predictTrain'] >= 0.7\n",
      "print df.groupby(['PoorCare','boolean']).size()"
     ],
     "language": "python",
     "metadata": {},
     "outputs": [
      {
       "output_type": "stream",
       "stream": "stdout",
       "text": [
        "PoorCare  boolean\n",
        "0         False      73\n",
        "          True        1\n",
        "1         False      18\n",
        "          True        6\n",
        "dtype: int64\n"
       ]
      }
     ],
     "prompt_number": 13
    },
    {
     "cell_type": "markdown",
     "metadata": {},
     "source": [
      "## Sensitivity and specificity"
     ]
    },
    {
     "cell_type": "code",
     "collapsed": false,
     "input": [
      "6/24.0"
     ],
     "language": "python",
     "metadata": {},
     "outputs": [
      {
       "metadata": {},
       "output_type": "pyout",
       "prompt_number": 14,
       "text": [
        "0.25"
       ]
      }
     ],
     "prompt_number": 14
    },
    {
     "cell_type": "code",
     "collapsed": false,
     "input": [
      "73/74.0"
     ],
     "language": "python",
     "metadata": {},
     "outputs": [
      {
       "metadata": {},
       "output_type": "pyout",
       "prompt_number": 15,
       "text": [
        "0.9864864864864865"
       ]
      }
     ],
     "prompt_number": 15
    },
    {
     "cell_type": "markdown",
     "metadata": {},
     "source": [
      "## Confusion matrix for threshold of 0.2\n",
      "This time using `confusion_matrix` from `scikit-learn`"
     ]
    },
    {
     "cell_type": "code",
     "collapsed": false,
     "input": [
      "from sklearn.metrics import confusion_matrix\n",
      "df['boolean'] = df['predictTrain'] >= 0.2\n",
      "print confusion_matrix(df['PoorCare'] == 1, df['boolean'])"
     ],
     "language": "python",
     "metadata": {},
     "outputs": [
      {
       "output_type": "stream",
       "stream": "stdout",
       "text": [
        "[[51 23]\n",
        " [ 9 15]]\n"
       ]
      }
     ],
     "prompt_number": 20
    },
    {
     "cell_type": "markdown",
     "metadata": {},
     "source": [
      "## Sensitivity and specificity"
     ]
    },
    {
     "cell_type": "code",
     "collapsed": false,
     "input": [
      "15.0/24"
     ],
     "language": "python",
     "metadata": {},
     "outputs": [
      {
       "metadata": {},
       "output_type": "pyout",
       "prompt_number": 17,
       "text": [
        "0.625"
       ]
      }
     ],
     "prompt_number": 17
    },
    {
     "cell_type": "code",
     "collapsed": false,
     "input": [
      "51.0/74"
     ],
     "language": "python",
     "metadata": {},
     "outputs": [
      {
       "metadata": {},
       "output_type": "pyout",
       "prompt_number": 18,
       "text": [
        "0.6891891891891891"
       ]
      }
     ],
     "prompt_number": 18
    },
    {
     "cell_type": "markdown",
     "metadata": {},
     "source": [
      "# Video 6\n",
      "## Performance function\n",
      "Using `metrics` from `scikit-learn`"
     ]
    },
    {
     "cell_type": "code",
     "collapsed": false,
     "input": [
      "from sklearn.metrics import roc_curve, auc\n",
      "fpr, tpr, thresholds = roc_curve(df['PoorCare'] == 1, df['predictTrain'])\n",
      "roc_auc = auc(fpr, tpr)"
     ],
     "language": "python",
     "metadata": {},
     "outputs": [],
     "prompt_number": 26
    },
    {
     "cell_type": "markdown",
     "metadata": {},
     "source": [
      "## Plot ROC curve\n",
      "I have given up on coloring the line... and the thresholds are not as nice as R's ROCR package."
     ]
    },
    {
     "cell_type": "code",
     "collapsed": false,
     "input": [
      "import matplotlib.pyplot as plt\n",
      "plt.figure()\n",
      "plt.plot(fpr, tpr, label='ROC curve (area = %0.2f)' % roc_auc)\n",
      "plt.plot([0, 1], [0, 1], 'k--')\n",
      "for i in range(len(fpr)):\n",
      "    if i%5 == 0:\n",
      "        plt.text(fpr[i],tpr[i],str(round(thresholds[i],2)))\n",
      "plt.xlim([0.0, 1.0])\n",
      "plt.ylim([0.0, 1.05])\n",
      "plt.xlabel('False Positive Rate')\n",
      "plt.ylabel('True Positive Rate')\n",
      "plt.title('Receiver operating characteristic Plot')\n",
      "plt.legend(loc=\"lower right\")\n",
      "plt.show()"
     ],
     "language": "python",
     "metadata": {},
     "outputs": [
      {
       "metadata": {},
       "output_type": "display_data",
       "png": "[encoded data removed]",
       "text": [
        "<matplotlib.figure.Figure at 0xae35eb8>"
       ]
      }
     ],
     "prompt_number": 34
    },
    {
     "cell_type": "code",
     "collapsed": false,
     "input": [],
     "language": "python",
     "metadata": {},
     "outputs": []
    }
   ],
   "metadata": {}
  }
 ]
}